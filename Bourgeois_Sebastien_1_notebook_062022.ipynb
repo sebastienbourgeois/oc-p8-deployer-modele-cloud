{
  "cells": [
    {
      "cell_type": "markdown",
      "source": [
        "# Installation librairies"
      ],
      "metadata": {
        "id": "efQOJUlI89Ks"
      },
      "id": "efQOJUlI89Ks"
    },
    {
      "cell_type": "code",
      "source": [
        "!pip install boto3"
      ],
      "metadata": {
        "colab": {
          "base_uri": "https://localhost:8080/"
        },
        "id": "bXV0SE_I9CFP",
        "outputId": "0d73000b-8987-46de-ad9b-1d74e158166d"
      },
      "id": "bXV0SE_I9CFP",
      "execution_count": 1,
      "outputs": [
        {
          "output_type": "stream",
          "name": "stdout",
          "text": [
            "Looking in indexes: https://pypi.org/simple, https://us-python.pkg.dev/colab-wheels/public/simple/\n",
            "Requirement already satisfied: boto3 in /usr/local/lib/python3.7/dist-packages (1.24.44)\n",
            "Requirement already satisfied: s3transfer<0.7.0,>=0.6.0 in /usr/local/lib/python3.7/dist-packages (from boto3) (0.6.0)\n",
            "Requirement already satisfied: jmespath<2.0.0,>=0.7.1 in /usr/local/lib/python3.7/dist-packages (from boto3) (1.0.1)\n",
            "Requirement already satisfied: botocore<1.28.0,>=1.27.44 in /usr/local/lib/python3.7/dist-packages (from boto3) (1.27.44)\n",
            "Requirement already satisfied: python-dateutil<3.0.0,>=2.1 in /usr/local/lib/python3.7/dist-packages (from botocore<1.28.0,>=1.27.44->boto3) (2.8.2)\n",
            "Requirement already satisfied: urllib3<1.27,>=1.25.4 in /usr/local/lib/python3.7/dist-packages (from botocore<1.28.0,>=1.27.44->boto3) (1.26.11)\n",
            "Requirement already satisfied: six>=1.5 in /usr/local/lib/python3.7/dist-packages (from python-dateutil<3.0.0,>=2.1->botocore<1.28.0,>=1.27.44->boto3) (1.15.0)\n"
          ]
        }
      ]
    },
    {
      "cell_type": "code",
      "source": [
        "!pip install pyspark"
      ],
      "metadata": {
        "colab": {
          "base_uri": "https://localhost:8080/"
        },
        "id": "jwsZvA_c9EqS",
        "outputId": "4561c1a1-9ac9-4071-f1fc-20aaf6f32455"
      },
      "id": "jwsZvA_c9EqS",
      "execution_count": 2,
      "outputs": [
        {
          "output_type": "stream",
          "name": "stdout",
          "text": [
            "Looking in indexes: https://pypi.org/simple, https://us-python.pkg.dev/colab-wheels/public/simple/\n",
            "Requirement already satisfied: pyspark in /usr/local/lib/python3.7/dist-packages (3.3.0)\n",
            "Requirement already satisfied: py4j==0.10.9.5 in /usr/local/lib/python3.7/dist-packages (from pyspark) (0.10.9.5)\n"
          ]
        }
      ]
    },
    {
      "cell_type": "markdown",
      "id": "e435bfa3",
      "metadata": {
        "id": "e435bfa3"
      },
      "source": [
        "# Fonctions"
      ]
    },
    {
      "cell_type": "markdown",
      "source": [
        "## Création du premier dataset"
      ],
      "metadata": {
        "id": "L4XDB7-176-4"
      },
      "id": "L4XDB7-176-4"
    },
    {
      "cell_type": "code",
      "execution_count": 3,
      "id": "9b6e1f2f",
      "metadata": {
        "id": "9b6e1f2f"
      },
      "outputs": [],
      "source": [
        "import re\n",
        "\n",
        "def creer_dataset_initial_depuis_s3(bucket):\n",
        "    colonnes = [\"chemin_image\", \"label\"]\n",
        "    valeurs = recuperer_valeurs_dataset_depuis_s3(bucket, False)\n",
        "    return spark.createDataFrame(valeurs, colonnes)\n",
        "\n",
        "def recuperer_valeurs_dataset_depuis_s3(bucket, utiliser_echantillon):\n",
        "    valeurs = []\n",
        "    \n",
        "    if utiliser_echantillon:\n",
        "        expression_image = \"echantillon.*\\.jpg\"\n",
        "    else:\n",
        "        expression_image = \"dataset.*\\.jpg\"\n",
        "    \n",
        "    for objet_bucket in bucket.objects.all():\n",
        "        if re.search(expression_image, objet_bucket.key):\n",
        "            chemin_image = objet_bucket.key\n",
        "            categorie_image = recuperer_categorie_image_depuis_s3(objet_bucket.key)\n",
        "            valeurs.append([chemin_image, categorie_image])\n",
        "            \n",
        "    return valeurs\n",
        "\n",
        "def recuperer_categorie_image_depuis_s3(cle_objet_bucket):\n",
        "    liste_dossiers_fichiers = cle_objet_bucket.split('/')\n",
        "    categorie_fruit = liste_dossiers_fichiers[1]\n",
        "    categorie_fruit = categorie_fruit.lower()\n",
        "    categorie_fruit = categorie_fruit.replace(\" \", \"_\")\n",
        "    return categorie_fruit"
      ]
    },
    {
      "cell_type": "markdown",
      "source": [
        "## Extraction des features"
      ],
      "metadata": {
        "id": "7BUVBR5v7-9D"
      },
      "id": "7BUVBR5v7-9D"
    },
    {
      "cell_type": "code",
      "source": [
        "import io\n",
        "import boto3\n",
        "import pandas as pd\n",
        "from keras.applications.vgg16 import VGG16\n",
        "from keras.models import Model\n",
        "from keras.preprocessing.image import load_img, img_to_array\n",
        "from keras.applications.vgg16 import preprocess_input\n",
        "from PIL import Image as pil_image\n",
        "\n",
        "def extraire_features_depuis_s3(chemin_image):\n",
        "    \n",
        "    # Récupération du bucket\n",
        "    bucket_p8 = recuperer_bucket_s3()\n",
        "    objet = bucket_p8.Object(chemin_image)\n",
        "    file_binary_stream = io.BytesIO()\n",
        "    objet.download_fileobj(file_binary_stream)\n",
        "    \n",
        "    # Chargement et prétraitement de l'image\n",
        "    #image = load_img(file_binary_stream, target_size=(224, 224))\n",
        "    image = pil_image.open(file_binary_stream)\n",
        "    image = image.resize((224, 224))\n",
        "    \n",
        "    # Convertir en tableau numpy\n",
        "    image = img_to_array(image) \n",
        "    \n",
        "    # Créer la collection d'images (un seul échantillon)\n",
        "    image = image.reshape((1, image.shape[0], image.shape[1], image.shape[2]))\n",
        "    \n",
        "    # Prétraiter l'image comme le veut VGG-16\n",
        "    image = preprocess_input(image) \n",
        "    \n",
        "    # Extraire les features de l'image\n",
        "    cnn_extraction_features = creer_cnn_extraction_features()\n",
        "    features = cnn_extraction_features.predict(image)[0]\n",
        "    features = features.tolist()\n",
        "    \n",
        "    file_binary_stream.close()\n",
        "    \n",
        "    return features\n",
        "    \n",
        "def recuperer_bucket_s3():\n",
        "    \n",
        "    # Récupération des clés d'accès AWS\n",
        "    access_key_id, secret_access_key = recuperer_cles_acces_aws()\n",
        "    \n",
        "    # Connexion à S3\n",
        "    s3 = boto3.resource(\n",
        "        service_name='s3',\n",
        "        region_name='eu-west-3',\n",
        "        aws_access_key_id=access_key_id,\n",
        "        aws_secret_access_key=secret_access_key\n",
        "    )\n",
        "    \n",
        "    return s3.Bucket(\"oc-p8-sb-data\")\n",
        "\n",
        "def recuperer_cles_acces_aws():\n",
        "    fichier_access_keys_AWS = \"/content/drive/MyDrive/Data/rootkey.csv\"\n",
        "    df_access_keys_AWS = pd.read_csv(fichier_access_keys_AWS)\n",
        "    access_key_id = df_access_keys_AWS[\"AWSAccessKeyId\"][0]\n",
        "    secret_access_key = df_access_keys_AWS[\"AWSSecretKey\"][0]\n",
        "    return access_key_id, secret_access_key\n",
        "\n",
        "def creer_cnn_extraction_features():\n",
        "    # Initialisation du modèle VGG-16 et suppression de ses 2 dernières couches (prédiction et fully-connected)\n",
        "    cnn = VGG16()\n",
        "    cnn = Model(inputs=cnn.inputs, outputs=cnn.layers[-2].output)\n",
        "    return cnn"
      ],
      "metadata": {
        "colab": {
          "base_uri": "https://localhost:8080/"
        },
        "id": "o68_oICB8MdR",
        "outputId": "ca880f0e-f970-4109-a057-39e341ed037c"
      },
      "id": "o68_oICB8MdR",
      "execution_count": 4,
      "outputs": [
        {
          "output_type": "stream",
          "name": "stderr",
          "text": [
            "/usr/local/lib/python3.7/dist-packages/requests/__init__.py:91: RequestsDependencyWarning: urllib3 (1.26.11) or chardet (3.0.4) doesn't match a supported version!\n",
            "  RequestsDependencyWarning)\n"
          ]
        }
      ]
    },
    {
      "cell_type": "markdown",
      "source": [
        "## Choix du nombre optimum de composantes principales pour l'ACP"
      ],
      "metadata": {
        "id": "HwSMjqiU8EVY"
      },
      "id": "HwSMjqiU8EVY"
    },
    {
      "cell_type": "code",
      "source": [
        "from pyspark.ml.feature import PCA\n",
        "\n",
        "def choisir_nombre_optimum_composantes_principales(df_images_fruits):\n",
        "    nombres_composantes_principales = [100, 150, 200, 225]\n",
        "    variance_expliquee = []\n",
        "    \n",
        "    # Récupération des variances expliquées pour chaque nombre de composantes principales\n",
        "    for nombre_composantes_principales in nombres_composantes_principales:\n",
        "        print(\"Nombre de CP étudié : {}\".format(nombre_composantes_principales))\n",
        "        acp = PCA(k=nombre_composantes_principales, inputCol=\"features_vector\", outputCol=\"resultats_acp_vector\")\n",
        "        acp = acp.fit(df_images_fruits)\n",
        "        variance_expliquee.append(acp.explainedVariance.sum())\n",
        "    \n",
        "    # Recherche du premier index atteignant 95% de variance expliquée\n",
        "    index = 0\n",
        "    seuil_atteint = False\n",
        "    taille_listes = len(variance_expliquee)\n",
        "    while index < taille_listes and not seuil_atteint:\n",
        "        if variance_expliquee[index] >= 0.95:\n",
        "            seuil_atteint = True\n",
        "        else:\n",
        "            index += 1\n",
        "    \n",
        "    # Renvoi du nombre optimum de composantes principales selon si le seuil a été atteint ou non\n",
        "    if seuil_atteint:\n",
        "        return nombres_composantes_principales[index]\n",
        "    else:\n",
        "        return nombres_composantes_principales[taille_listes-1]        "
      ],
      "metadata": {
        "id": "cdMNJKjr8NHc"
      },
      "id": "cdMNJKjr8NHc",
      "execution_count": 15,
      "outputs": []
    },
    {
      "cell_type": "markdown",
      "source": [
        "## Export des résultats vers S3"
      ],
      "metadata": {
        "id": "O9yVkVSM8IMY"
      },
      "id": "O9yVkVSM8IMY"
    },
    {
      "cell_type": "code",
      "source": [
        "def exporter_resultats_acp_vers_s3(df_pandas_resultat_acp):\n",
        "    file_binary_stream = io.BytesIO()\n",
        "    df_pandas_resultat_acp.to_csv(file_binary_stream, mode=\"wb\", header=True, sep=\";\", index=False)\n",
        "    file_binary_stream.seek(0)\n",
        "    bucket.upload_fileobj(file_binary_stream, \"sortie_acp_avec_200_images.csv\")\n",
        "    file_binary_stream.close()\n",
        "    return None"
      ],
      "metadata": {
        "id": "tjgMoaP18Nhl"
      },
      "id": "tjgMoaP18Nhl",
      "execution_count": 23,
      "outputs": []
    },
    {
      "cell_type": "markdown",
      "id": "377905cd",
      "metadata": {
        "id": "377905cd"
      },
      "source": [
        "# Récupération des clés d'accès AWS"
      ]
    },
    {
      "cell_type": "code",
      "source": [
        "from google.colab import drive\n",
        "drive.mount('/content/drive')"
      ],
      "metadata": {
        "colab": {
          "base_uri": "https://localhost:8080/"
        },
        "id": "-TO6rkjvj4Zr",
        "outputId": "ab7ae209-eaa1-4025-9bb3-678541b51a8c"
      },
      "id": "-TO6rkjvj4Zr",
      "execution_count": 7,
      "outputs": [
        {
          "output_type": "stream",
          "name": "stdout",
          "text": [
            "Drive already mounted at /content/drive; to attempt to forcibly remount, call drive.mount(\"/content/drive\", force_remount=True).\n"
          ]
        }
      ]
    },
    {
      "cell_type": "code",
      "execution_count": 8,
      "id": "09767bf4",
      "metadata": {
        "id": "09767bf4"
      },
      "outputs": [],
      "source": [
        "import pandas as pd\n",
        "\n",
        "fichier_access_keys_AWS = \"/content/drive/MyDrive/Data/rootkey.csv\"\n",
        "df_access_keys_AWS = pd.read_csv(fichier_access_keys_AWS)\n",
        "access_key_id = df_access_keys_AWS[\"AWSAccessKeyId\"][0]\n",
        "secret_access_key = df_access_keys_AWS[\"AWSSecretKey\"][0]"
      ]
    },
    {
      "cell_type": "markdown",
      "id": "927adc9c",
      "metadata": {
        "id": "927adc9c"
      },
      "source": [
        "# Connexion avec S3"
      ]
    },
    {
      "cell_type": "code",
      "execution_count": 9,
      "id": "5566a070",
      "metadata": {
        "id": "5566a070"
      },
      "outputs": [],
      "source": [
        "import boto3\n",
        "\n",
        "s3 = boto3.resource(\n",
        "    service_name='s3',\n",
        "    region_name='eu-west-3',\n",
        "    aws_access_key_id=access_key_id,\n",
        "    aws_secret_access_key=secret_access_key\n",
        ")\n",
        "\n",
        "bucket = s3.Bucket(\"oc-p8-sb-data\")"
      ]
    },
    {
      "cell_type": "markdown",
      "id": "5b9a0cce",
      "metadata": {
        "id": "5b9a0cce"
      },
      "source": [
        "# Chargement des images depuis S3"
      ]
    },
    {
      "cell_type": "code",
      "execution_count": 10,
      "id": "bcdc7795",
      "metadata": {
        "colab": {
          "base_uri": "https://localhost:8080/"
        },
        "id": "bcdc7795",
        "outputId": "95bef5db-ee05-4d8e-d013-499c3ae1bf86"
      },
      "outputs": [
        {
          "output_type": "stream",
          "name": "stdout",
          "text": [
            "+--------------------+--------------+\n",
            "|        chemin_image|         label|\n",
            "+--------------------+--------------+\n",
            "|dataset/Apple Bra...|apple_braeburn|\n",
            "|dataset/Apple Bra...|apple_braeburn|\n",
            "|dataset/Apple Bra...|apple_braeburn|\n",
            "|dataset/Apple Bra...|apple_braeburn|\n",
            "|dataset/Apple Bra...|apple_braeburn|\n",
            "|dataset/Apple Bra...|apple_braeburn|\n",
            "|dataset/Apple Bra...|apple_braeburn|\n",
            "|dataset/Apple Bra...|apple_braeburn|\n",
            "|dataset/Apple Bra...|apple_braeburn|\n",
            "|dataset/Apple Bra...|apple_braeburn|\n",
            "|dataset/Apple Bra...|apple_braeburn|\n",
            "|dataset/Apple Bra...|apple_braeburn|\n",
            "|dataset/Apple Bra...|apple_braeburn|\n",
            "|dataset/Apple Bra...|apple_braeburn|\n",
            "|dataset/Apple Bra...|apple_braeburn|\n",
            "|dataset/Apple Bra...|apple_braeburn|\n",
            "|dataset/Apple Bra...|apple_braeburn|\n",
            "|dataset/Apple Bra...|apple_braeburn|\n",
            "|dataset/Apple Bra...|apple_braeburn|\n",
            "|dataset/Apple Bra...|apple_braeburn|\n",
            "+--------------------+--------------+\n",
            "only showing top 20 rows\n",
            "\n"
          ]
        }
      ],
      "source": [
        "from pyspark import SparkContext, SparkConf\n",
        "from pyspark.sql import SparkSession, Row\n",
        "\n",
        "# Initialisation des configurations\n",
        "appName = \"oc-p8-deployer-modele-cloud\"\n",
        "master = \"local[*]\"\n",
        "conf = SparkConf().setAppName(appName).setMaster(master)\n",
        "conf.set('spark.driver.memory', '4g')\n",
        "conf.set('spark.executor.memory', '2g')\n",
        "conf.set(\"spark.sql.execution.arrow.maxRecordsPerBatch\", \"1024\")\n",
        "\n",
        "# Instanciation de la SparkSession avec la configuration définie ci-avant et du SparkContext\n",
        "spark = SparkSession.builder.config(conf=conf).getOrCreate()\n",
        "sc = spark.sparkContext\n",
        "\n",
        "df_images_fruits = creer_dataset_initial_depuis_s3(bucket)\n",
        "df_images_fruits.persist()\n",
        "df_images_fruits.show(truncate=True)"
      ]
    },
    {
      "cell_type": "code",
      "source": [
        "sc.getConf().getAll()"
      ],
      "metadata": {
        "colab": {
          "base_uri": "https://localhost:8080/"
        },
        "id": "ALCNP6xazIPc",
        "outputId": "507aa703-45b3-46cb-a197-a0ea041eb0bb"
      },
      "id": "ALCNP6xazIPc",
      "execution_count": 11,
      "outputs": [
        {
          "output_type": "execute_result",
          "data": {
            "text/plain": [
              "[('spark.driver.extraJavaOptions',\n",
              "  '-XX:+IgnoreUnrecognizedVMOptions --add-opens=java.base/java.lang=ALL-UNNAMED --add-opens=java.base/java.lang.invoke=ALL-UNNAMED --add-opens=java.base/java.lang.reflect=ALL-UNNAMED --add-opens=java.base/java.io=ALL-UNNAMED --add-opens=java.base/java.net=ALL-UNNAMED --add-opens=java.base/java.nio=ALL-UNNAMED --add-opens=java.base/java.util=ALL-UNNAMED --add-opens=java.base/java.util.concurrent=ALL-UNNAMED --add-opens=java.base/java.util.concurrent.atomic=ALL-UNNAMED --add-opens=java.base/sun.nio.ch=ALL-UNNAMED --add-opens=java.base/sun.nio.cs=ALL-UNNAMED --add-opens=java.base/sun.security.action=ALL-UNNAMED --add-opens=java.base/sun.util.calendar=ALL-UNNAMED --add-opens=java.security.jgss/sun.security.krb5=ALL-UNNAMED'),\n",
              " ('spark.executor.memory', '2g'),\n",
              " ('spark.app.submitTime', '1659534449625'),\n",
              " ('spark.driver.port', '37563'),\n",
              " ('spark.driver.memory', '4g'),\n",
              " ('spark.app.startTime', '1659534449928'),\n",
              " ('spark.sql.execution.arrow.maxRecordsPerBatch', '1024'),\n",
              " ('spark.executor.id', 'driver'),\n",
              " ('spark.sql.warehouse.dir', 'file:/content/spark-warehouse'),\n",
              " ('spark.app.name', 'oc-p8-deployer-modele-cloud'),\n",
              " ('spark.driver.host', 'c12f620afd6e'),\n",
              " ('spark.rdd.compress', 'True'),\n",
              " ('spark.executor.extraJavaOptions',\n",
              "  '-XX:+IgnoreUnrecognizedVMOptions --add-opens=java.base/java.lang=ALL-UNNAMED --add-opens=java.base/java.lang.invoke=ALL-UNNAMED --add-opens=java.base/java.lang.reflect=ALL-UNNAMED --add-opens=java.base/java.io=ALL-UNNAMED --add-opens=java.base/java.net=ALL-UNNAMED --add-opens=java.base/java.nio=ALL-UNNAMED --add-opens=java.base/java.util=ALL-UNNAMED --add-opens=java.base/java.util.concurrent=ALL-UNNAMED --add-opens=java.base/java.util.concurrent.atomic=ALL-UNNAMED --add-opens=java.base/sun.nio.ch=ALL-UNNAMED --add-opens=java.base/sun.nio.cs=ALL-UNNAMED --add-opens=java.base/sun.security.action=ALL-UNNAMED --add-opens=java.base/sun.util.calendar=ALL-UNNAMED --add-opens=java.security.jgss/sun.security.krb5=ALL-UNNAMED'),\n",
              " ('spark.serializer.objectStreamReset', '100'),\n",
              " ('spark.master', 'local[*]'),\n",
              " ('spark.submit.pyFiles', ''),\n",
              " ('spark.submit.deployMode', 'client'),\n",
              " ('spark.app.id', 'local-1659534451690'),\n",
              " ('spark.ui.showConsoleProgress', 'true')]"
            ]
          },
          "metadata": {},
          "execution_count": 11
        }
      ]
    },
    {
      "cell_type": "markdown",
      "source": [
        "# Extraction des features des images"
      ],
      "metadata": {
        "id": "wAjm1XWLdYWb"
      },
      "id": "wAjm1XWLdYWb"
    },
    {
      "cell_type": "code",
      "execution_count": 12,
      "id": "2d282751",
      "metadata": {
        "colab": {
          "base_uri": "https://localhost:8080/"
        },
        "id": "2d282751",
        "outputId": "079f6358-e428-4965-f690-b0a85a34ee9c"
      },
      "outputs": [
        {
          "output_type": "stream",
          "name": "stdout",
          "text": [
            "+--------------------+--------------+--------------------+\n",
            "|        chemin_image|         label|            features|\n",
            "+--------------------+--------------+--------------------+\n",
            "|dataset/Apple Bra...|apple_braeburn|[0.0, 0.0, 0.0, 0...|\n",
            "|dataset/Apple Bra...|apple_braeburn|[0.0, 0.0, 0.0, 2...|\n",
            "|dataset/Apple Bra...|apple_braeburn|[0.0, 0.0, 0.0, 3...|\n",
            "|dataset/Apple Bra...|apple_braeburn|[0.0, 0.0, 0.0, 3...|\n",
            "|dataset/Apple Bra...|apple_braeburn|[0.0, 0.0, 0.0, 2...|\n",
            "|dataset/Apple Bra...|apple_braeburn|[0.0, 0.0, 0.0, 3...|\n",
            "|dataset/Apple Bra...|apple_braeburn|[0.0, 0.0, 0.0, 3...|\n",
            "|dataset/Apple Bra...|apple_braeburn|[0.0, 0.0, 0.0, 2...|\n",
            "|dataset/Apple Bra...|apple_braeburn|[0.0, 0.0, 0.0, 2...|\n",
            "|dataset/Apple Bra...|apple_braeburn|[0.0, 0.0, 0.0, 2...|\n",
            "|dataset/Apple Bra...|apple_braeburn|[0.0, 0.0, 0.0, 2...|\n",
            "|dataset/Apple Bra...|apple_braeburn|[0.0, 0.0, 0.0, 1...|\n",
            "|dataset/Apple Bra...|apple_braeburn|[0.0, 0.0, 0.0, 2...|\n",
            "|dataset/Apple Bra...|apple_braeburn|[0.0, 0.0, 0.0, 2...|\n",
            "|dataset/Apple Bra...|apple_braeburn|[0.0, 0.0, 0.0, 2...|\n",
            "|dataset/Apple Bra...|apple_braeburn|[0.0, 0.0, 0.0, 3...|\n",
            "|dataset/Apple Bra...|apple_braeburn|[0.0, 0.0, 0.0, 3...|\n",
            "|dataset/Apple Bra...|apple_braeburn|[0.0, 0.0, 0.0, 3...|\n",
            "|dataset/Apple Bra...|apple_braeburn|[0.0, 0.0, 0.0, 3...|\n",
            "|dataset/Apple Bra...|apple_braeburn|[0.0, 0.13731521,...|\n",
            "+--------------------+--------------+--------------------+\n",
            "only showing top 20 rows\n",
            "\n"
          ]
        }
      ],
      "source": [
        "from pyspark.sql.types import StructType, ArrayType, FloatType\n",
        "from pyspark.sql.functions import udf\n",
        "\n",
        "udf_extraire_features = udf(extraire_features_depuis_s3, ArrayType(FloatType()))\n",
        "\n",
        "df_images_fruits = df_images_fruits.withColumn(\"features\", udf_extraire_features(\"chemin_image\"))\n",
        "df_images_fruits.persist()\n",
        "df_images_fruits.show(truncate=True)"
      ]
    },
    {
      "cell_type": "markdown",
      "id": "4503e7da",
      "metadata": {
        "id": "4503e7da"
      },
      "source": [
        "# Réduction de dimension avec l'ACP"
      ]
    },
    {
      "cell_type": "markdown",
      "id": "aaada15b",
      "metadata": {
        "id": "aaada15b"
      },
      "source": [
        "## Conversion des features en Vector"
      ]
    },
    {
      "cell_type": "code",
      "execution_count": 13,
      "id": "39ec4011",
      "metadata": {
        "id": "39ec4011"
      },
      "outputs": [],
      "source": [
        "from pyspark.ml.linalg import Vectors, VectorUDT\n",
        "from pyspark.sql.functions import udf\n",
        "\n",
        "udf_convertir_en_vecteur = udf(lambda x: Vectors.dense(x), VectorUDT())"
      ]
    },
    {
      "cell_type": "code",
      "execution_count": 14,
      "id": "cf6e0da6",
      "metadata": {
        "colab": {
          "base_uri": "https://localhost:8080/"
        },
        "id": "cf6e0da6",
        "outputId": "432e618f-1500-4def-c7f8-8c07b45e35bf"
      },
      "outputs": [
        {
          "output_type": "stream",
          "name": "stdout",
          "text": [
            "+--------------------+--------------+--------------------+--------------------+\n",
            "|        chemin_image|         label|            features|     features_vector|\n",
            "+--------------------+--------------+--------------------+--------------------+\n",
            "|dataset/Apple Bra...|apple_braeburn|[0.0, 0.0, 0.0, 0...|[0.0,0.0,0.0,0.76...|\n",
            "|dataset/Apple Bra...|apple_braeburn|[0.0, 0.0, 0.0, 2...|[0.0,0.0,0.0,2.33...|\n",
            "|dataset/Apple Bra...|apple_braeburn|[0.0, 0.0, 0.0, 3...|[0.0,0.0,0.0,3.04...|\n",
            "|dataset/Apple Bra...|apple_braeburn|[0.0, 0.0, 0.0, 3...|[0.0,0.0,0.0,3.24...|\n",
            "|dataset/Apple Bra...|apple_braeburn|[0.0, 0.0, 0.0, 2...|[0.0,0.0,0.0,2.80...|\n",
            "|dataset/Apple Bra...|apple_braeburn|[0.0, 0.0, 0.0, 3...|[0.0,0.0,0.0,3.12...|\n",
            "|dataset/Apple Bra...|apple_braeburn|[0.0, 0.0, 0.0, 3...|[0.0,0.0,0.0,3.00...|\n",
            "|dataset/Apple Bra...|apple_braeburn|[0.0, 0.0, 0.0, 2...|[0.0,0.0,0.0,2.57...|\n",
            "|dataset/Apple Bra...|apple_braeburn|[0.0, 0.0, 0.0, 2...|[0.0,0.0,0.0,2.92...|\n",
            "|dataset/Apple Bra...|apple_braeburn|[0.0, 0.0, 0.0, 2...|[0.0,0.0,0.0,2.88...|\n",
            "|dataset/Apple Bra...|apple_braeburn|[0.0, 0.0, 0.0, 2...|[0.0,0.0,0.0,2.90...|\n",
            "|dataset/Apple Bra...|apple_braeburn|[0.0, 0.0, 0.0, 1...|[0.0,0.0,0.0,1.67...|\n",
            "|dataset/Apple Bra...|apple_braeburn|[0.0, 0.0, 0.0, 2...|[0.0,0.0,0.0,2.88...|\n",
            "|dataset/Apple Bra...|apple_braeburn|[0.0, 0.0, 0.0, 2...|[0.0,0.0,0.0,2.53...|\n",
            "|dataset/Apple Bra...|apple_braeburn|[0.0, 0.0, 0.0, 2...|[0.0,0.0,0.0,2.98...|\n",
            "|dataset/Apple Bra...|apple_braeburn|[0.0, 0.0, 0.0, 3...|[0.0,0.0,0.0,3.24...|\n",
            "|dataset/Apple Bra...|apple_braeburn|[0.0, 0.0, 0.0, 3...|[0.0,0.0,0.0,3.21...|\n",
            "|dataset/Apple Bra...|apple_braeburn|[0.0, 0.0, 0.0, 3...|[0.0,0.0,0.0,3.23...|\n",
            "|dataset/Apple Bra...|apple_braeburn|[0.0, 0.0, 0.0, 3...|[0.0,0.0,0.0,3.63...|\n",
            "|dataset/Apple Bra...|apple_braeburn|[0.0, 0.13731521,...|[0.0,0.1373152136...|\n",
            "+--------------------+--------------+--------------------+--------------------+\n",
            "only showing top 20 rows\n",
            "\n"
          ]
        }
      ],
      "source": [
        "df_images_fruits = df_images_fruits.withColumn('features_vector', udf_convertir_en_vecteur(\"features\"))\n",
        "df_images_fruits.persist()\n",
        "df_images_fruits.show(truncate=True)"
      ]
    },
    {
      "cell_type": "markdown",
      "id": "07fa86ac",
      "metadata": {
        "id": "07fa86ac"
      },
      "source": [
        "## ACP"
      ]
    },
    {
      "cell_type": "code",
      "execution_count": 16,
      "id": "495a8e93",
      "metadata": {
        "id": "495a8e93",
        "colab": {
          "base_uri": "https://localhost:8080/"
        },
        "outputId": "e459d64b-6fbe-48cc-8358-8018a4e6764a"
      },
      "outputs": [
        {
          "output_type": "stream",
          "name": "stdout",
          "text": [
            "Nombre de CP étudié : 100\n",
            "Nombre de CP étudié : 150\n",
            "Nombre de CP étudié : 200\n",
            "Nombre de CP étudié : 225\n"
          ]
        }
      ],
      "source": [
        "nombre_optimum_composantes_principales = choisir_nombre_optimum_composantes_principales(df_images_fruits)"
      ]
    },
    {
      "cell_type": "code",
      "execution_count": 17,
      "id": "2ae8486b",
      "metadata": {
        "id": "2ae8486b",
        "outputId": "996f34e1-4ed6-420c-e96a-a1e41e63e32c",
        "colab": {
          "base_uri": "https://localhost:8080/"
        }
      },
      "outputs": [
        {
          "output_type": "stream",
          "name": "stdout",
          "text": [
            "Nombre optimum de CP : 100\n"
          ]
        }
      ],
      "source": [
        "print(\"Nombre optimum de CP : {}\".format(nombre_optimum_composantes_principales))"
      ]
    },
    {
      "cell_type": "code",
      "execution_count": 18,
      "id": "70d2f0cd",
      "metadata": {
        "id": "70d2f0cd"
      },
      "outputs": [],
      "source": [
        "acp = PCA(k=nombre_optimum_composantes_principales, inputCol=\"features_vector\", outputCol=\"resultats_acp_vector\")\n",
        "acp = acp.fit(df_images_fruits)"
      ]
    },
    {
      "cell_type": "code",
      "execution_count": 19,
      "id": "ff4af9dc",
      "metadata": {
        "id": "ff4af9dc",
        "outputId": "c6919e63-f48d-4019-c151-eba703fd58c9",
        "colab": {
          "base_uri": "https://localhost:8080/"
        }
      },
      "outputs": [
        {
          "output_type": "stream",
          "name": "stdout",
          "text": [
            "+--------------------+--------------+--------------------+--------------------+--------------------+\n",
            "|        chemin_image|         label|            features|     features_vector|resultats_acp_vector|\n",
            "+--------------------+--------------+--------------------+--------------------+--------------------+\n",
            "|dataset/Apple Bra...|apple_braeburn|[0.0, 0.0, 0.0, 0...|[0.0,0.0,0.0,0.76...|[27.2808485199140...|\n",
            "|dataset/Apple Bra...|apple_braeburn|[0.0, 0.0, 0.0, 2...|[0.0,0.0,0.0,2.33...|[29.1818517257581...|\n",
            "|dataset/Apple Bra...|apple_braeburn|[0.0, 0.0, 0.0, 3...|[0.0,0.0,0.0,3.04...|[29.6118068740900...|\n",
            "|dataset/Apple Bra...|apple_braeburn|[0.0, 0.0, 0.0, 3...|[0.0,0.0,0.0,3.24...|[29.9169282213898...|\n",
            "|dataset/Apple Bra...|apple_braeburn|[0.0, 0.0, 0.0, 2...|[0.0,0.0,0.0,2.80...|[29.6598651931137...|\n",
            "|dataset/Apple Bra...|apple_braeburn|[0.0, 0.0, 0.0, 3...|[0.0,0.0,0.0,3.12...|[29.7878226825621...|\n",
            "|dataset/Apple Bra...|apple_braeburn|[0.0, 0.0, 0.0, 3...|[0.0,0.0,0.0,3.00...|[29.5425245850562...|\n",
            "|dataset/Apple Bra...|apple_braeburn|[0.0, 0.0, 0.0, 2...|[0.0,0.0,0.0,2.57...|[29.7766632456471...|\n",
            "|dataset/Apple Bra...|apple_braeburn|[0.0, 0.0, 0.0, 2...|[0.0,0.0,0.0,2.92...|[30.1339124965427...|\n",
            "|dataset/Apple Bra...|apple_braeburn|[0.0, 0.0, 0.0, 2...|[0.0,0.0,0.0,2.88...|[29.7994438012642...|\n",
            "|dataset/Apple Bra...|apple_braeburn|[0.0, 0.0, 0.0, 2...|[0.0,0.0,0.0,2.90...|[29.1209345006304...|\n",
            "|dataset/Apple Bra...|apple_braeburn|[0.0, 0.0, 0.0, 1...|[0.0,0.0,0.0,1.67...|[25.5335912172705...|\n",
            "|dataset/Apple Bra...|apple_braeburn|[0.0, 0.0, 0.0, 2...|[0.0,0.0,0.0,2.88...|[30.1633188728771...|\n",
            "|dataset/Apple Bra...|apple_braeburn|[0.0, 0.0, 0.0, 2...|[0.0,0.0,0.0,2.53...|[28.6079272148960...|\n",
            "|dataset/Apple Bra...|apple_braeburn|[0.0, 0.0, 0.0, 2...|[0.0,0.0,0.0,2.98...|[28.1499858231412...|\n",
            "|dataset/Apple Bra...|apple_braeburn|[0.0, 0.0, 0.0, 3...|[0.0,0.0,0.0,3.24...|[28.5845464503464...|\n",
            "|dataset/Apple Bra...|apple_braeburn|[0.0, 0.0, 0.0, 3...|[0.0,0.0,0.0,3.21...|[29.0261505687484...|\n",
            "|dataset/Apple Bra...|apple_braeburn|[0.0, 0.0, 0.0, 3...|[0.0,0.0,0.0,3.23...|[29.9806759852761...|\n",
            "|dataset/Apple Bra...|apple_braeburn|[0.0, 0.0, 0.0, 3...|[0.0,0.0,0.0,3.63...|[29.8440754061733...|\n",
            "|dataset/Apple Bra...|apple_braeburn|[0.0, 0.13731521,...|[0.0,0.1373152136...|[30.0842799870706...|\n",
            "+--------------------+--------------+--------------------+--------------------+--------------------+\n",
            "only showing top 20 rows\n",
            "\n"
          ]
        }
      ],
      "source": [
        "df_images_fruits = acp.transform(df_images_fruits)\n",
        "df_images_fruits.persist()\n",
        "df_images_fruits.show(truncate=True)"
      ]
    },
    {
      "cell_type": "code",
      "execution_count": 20,
      "id": "2c5ab238",
      "metadata": {
        "id": "2c5ab238",
        "outputId": "4f575593-a466-4086-acea-51d8daa7888e",
        "colab": {
          "base_uri": "https://localhost:8080/"
        }
      },
      "outputs": [
        {
          "output_type": "stream",
          "name": "stdout",
          "text": [
            "Taux de variance expliquée : 0.9970876176718314\n"
          ]
        }
      ],
      "source": [
        "print('Taux de variance expliquée :', acp.explainedVariance.sum())"
      ]
    },
    {
      "cell_type": "markdown",
      "id": "6c592507",
      "metadata": {
        "id": "6c592507"
      },
      "source": [
        "# Export du résultat de la réduction de dimension vers S3"
      ]
    },
    {
      "cell_type": "code",
      "execution_count": 21,
      "id": "1cf2a340",
      "metadata": {
        "id": "1cf2a340",
        "outputId": "3f2e770e-afd5-40f7-b266-d67e9fd63406",
        "colab": {
          "base_uri": "https://localhost:8080/"
        }
      },
      "outputs": [
        {
          "output_type": "stream",
          "name": "stdout",
          "text": [
            "+--------------------+--------------+--------------------+\n",
            "|        chemin_image|         label|resultats_acp_vector|\n",
            "+--------------------+--------------+--------------------+\n",
            "|dataset/Apple Bra...|apple_braeburn|[27.2808485199140...|\n",
            "|dataset/Apple Bra...|apple_braeburn|[29.1818517257581...|\n",
            "|dataset/Apple Bra...|apple_braeburn|[29.6118068740900...|\n",
            "|dataset/Apple Bra...|apple_braeburn|[29.9169282213898...|\n",
            "|dataset/Apple Bra...|apple_braeburn|[29.6598651931137...|\n",
            "|dataset/Apple Bra...|apple_braeburn|[29.7878226825621...|\n",
            "|dataset/Apple Bra...|apple_braeburn|[29.5425245850562...|\n",
            "|dataset/Apple Bra...|apple_braeburn|[29.7766632456471...|\n",
            "|dataset/Apple Bra...|apple_braeburn|[30.1339124965427...|\n",
            "|dataset/Apple Bra...|apple_braeburn|[29.7994438012642...|\n",
            "|dataset/Apple Bra...|apple_braeburn|[29.1209345006304...|\n",
            "|dataset/Apple Bra...|apple_braeburn|[25.5335912172705...|\n",
            "|dataset/Apple Bra...|apple_braeburn|[30.1633188728771...|\n",
            "|dataset/Apple Bra...|apple_braeburn|[28.6079272148960...|\n",
            "|dataset/Apple Bra...|apple_braeburn|[28.1499858231412...|\n",
            "|dataset/Apple Bra...|apple_braeburn|[28.5845464503464...|\n",
            "|dataset/Apple Bra...|apple_braeburn|[29.0261505687484...|\n",
            "|dataset/Apple Bra...|apple_braeburn|[29.9806759852761...|\n",
            "|dataset/Apple Bra...|apple_braeburn|[29.8440754061733...|\n",
            "|dataset/Apple Bra...|apple_braeburn|[30.0842799870706...|\n",
            "+--------------------+--------------+--------------------+\n",
            "only showing top 20 rows\n",
            "\n"
          ]
        }
      ],
      "source": [
        "df_resultat_acp = df_images_fruits.select(\"chemin_image\", \"label\", \"resultats_acp_vector\")\n",
        "df_resultat_acp.show(truncate=True)"
      ]
    },
    {
      "cell_type": "code",
      "execution_count": 22,
      "id": "657d037a",
      "metadata": {
        "id": "657d037a"
      },
      "outputs": [],
      "source": [
        "df_pandas_resultat_acp = df_resultat_acp.toPandas()"
      ]
    },
    {
      "cell_type": "code",
      "execution_count": 24,
      "id": "7203a7a7",
      "metadata": {
        "id": "7203a7a7"
      },
      "outputs": [],
      "source": [
        "exporter_resultats_acp_vers_s3(df_pandas_resultat_acp)"
      ]
    }
  ],
  "metadata": {
    "kernelspec": {
      "display_name": "Python 3",
      "name": "python3"
    },
    "language_info": {
      "name": "python"
    },
    "colab": {
      "name": "Bourgeois_Sebastien_1_notebook_062022.ipynb",
      "provenance": [],
      "collapsed_sections": [
        "4fc47ac9",
        "da0ea963",
        "7249c7a4",
        "2688abd1",
        "dba9f8c5",
        "8fca1734",
        "6f2ec9a4"
      ],
      "toc_visible": true
    },
    "gpuClass": "standard"
  },
  "nbformat": 4,
  "nbformat_minor": 5
}