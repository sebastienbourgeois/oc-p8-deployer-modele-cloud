{
 "cells": [
  {
   "cell_type": "code",
   "execution_count": 32,
   "id": "320bf971",
   "metadata": {},
   "outputs": [],
   "source": [
    "def recuperer_valeurs_dataset_en_local(chemin_echantillon_dataset):\n",
    "    valeurs = []\n",
    "    for nom_dossier_images_fruit in listdir(chemin_echantillon_dataset):\n",
    "        chemin_dossier_images_fruit = chemin_echantillon_dataset + nom_dossier_images_fruit + \"/\"\n",
    "        for nom_image_fruit in listdir(chemin_dossier_images_fruit):\n",
    "            chemin_image_fruit = chemin_dossier_images_fruit + nom_image_fruit\n",
    "            valeurs.append([chemin_image_fruit, nom_dossier_images_fruit])\n",
    "    return valeurs\n",
    "\n",
    "def creer_dataset_initial_en_local(chemin_echantillon_dataset):\n",
    "    colonnes = [\"chemin_image\", \"label\"]\n",
    "    valeurs = recuperer_valeurs_dataset_en_local(chemin_echantillon_dataset)\n",
    "    return spark.createDataFrame(valeurs, colonnes)\n",
    "\n",
    "def pretraiter(image):\n",
    "    \"\"\"\n",
    "    Retourne l'image dont on a appliqué des prétraitements.\n",
    "    \n",
    "    \n",
    "    Paramètre :\n",
    "        - image : image à prétraiter\n",
    "    \"\"\"\n",
    "    image_pretraitee = cv.cvtColor(image, cv.COLOR_BGR2GRAY)\n",
    "    image_pretraitee = cv.equalizeHist(image_pretraitee)\n",
    "    image_pretraitee = cv.GaussianBlur(image_pretraitee, (5,5), 3)\n",
    "    image_pretraitee = cv.resize(image_pretraitee, dsize=(100,100))\n",
    "    return image_pretraitee\n",
    "\n",
    "def extraire_descripteurs(nom_fichier_image):\n",
    "    \"\"\"\n",
    "    Retourne les descripteurs associés aux features d'une image à partir du nom de son fichier\n",
    "    \n",
    "    \n",
    "    Paramètre :\n",
    "        - nom_fichier_image : nom du fichier contenant l'image dont on veut tirer les descripteurs\n",
    "    \"\"\"\n",
    "    image = cv.imread(nom_fichier_image)\n",
    "    image_pretraitee = pretraiter(image)\n",
    "    sift = cv.SIFT_create()\n",
    "    keypoints, descripteurs = sift.detectAndCompute(image_pretraitee, None)\n",
    "    \n",
    "    descripteurs = descripteurs.flatten().tolist()\n",
    "    \n",
    "    return descripteurs"
   ]
  },
  {
   "cell_type": "code",
   "execution_count": 23,
   "id": "e27df887",
   "metadata": {},
   "outputs": [
    {
     "name": "stdout",
     "output_type": "stream",
     "text": [
      "+--------------------+------------------+--------------------+\n",
      "|        chemin_image|             label|        descripteurs|\n",
      "+--------------------+------------------+--------------------+\n",
      "|data/echantillon_...|apple_granny_smith|[1.0, 0.0, 0.0, 0...|\n",
      "|data/echantillon_...|apple_granny_smith|[42.0, 30.0, 0.0,...|\n",
      "|data/echantillon_...|           avocado|[54.0, 26.0, 0.0,...|\n",
      "|data/echantillon_...|           avocado|[98.0, 84.0, 0.0,...|\n",
      "|data/echantillon_...|            banana|[0.0, 0.0, 0.0, 0...|\n",
      "|data/echantillon_...|            banana|[150.0, 22.0, 0.0...|\n",
      "+--------------------+------------------+--------------------+\n",
      "\n"
     ]
    }
   ],
   "source": [
    "from pyspark import SparkContext, SparkConf\n",
    "from pyspark.sql import SparkSession, Row\n",
    "from pyspark.sql.types import StructType, ArrayType, FloatType\n",
    "from pyspark.sql.functions import udf\n",
    "from os import listdir\n",
    "import cv2 as cv\n",
    "\n",
    "# Initialisation du programme\n",
    "#appName = \"[OC/P8] - Déployer un modèle sur le cloud\"\n",
    "#master = \"local\"\n",
    "#conf = SparkConf().setAppName(appName).setMaster(master)\n",
    "#sc = SparkContext(conf=conf).getOrCreate()\n",
    "sc = SparkContext.getOrCreate()\n",
    "spark = SparkSession.builder.getOrCreate()\n",
    "chemin_echantillon_dataset = \"data/echantillon_dataset/\"\n",
    "\n",
    "df_images_fruits = creer_dataset_initial_en_local(chemin_echantillon_dataset)\n",
    "udf_extraire_descripteurs = udf(extraire_descripteurs, ArrayType(FloatType()))\n",
    "\n",
    "df_images_fruits = df_images_fruits.withColumn(\"descripteurs\", udf_extraire_descripteurs(\"chemin_image\"))\n",
    "df_images_fruits.show(truncate=True)"
   ]
  },
  {
   "cell_type": "code",
   "execution_count": 31,
   "id": "d0783f54",
   "metadata": {},
   "outputs": [
    {
     "data": {
      "text/plain": [
       "640"
      ]
     },
     "execution_count": 31,
     "metadata": {},
     "output_type": "execute_result"
    }
   ],
   "source": [
    "des = df_images_fruits.collect()[1][2]\n",
    "len(des)"
   ]
  },
  {
   "cell_type": "code",
   "execution_count": 30,
   "id": "03a45b43",
   "metadata": {},
   "outputs": [
    {
     "data": {
      "text/plain": [
       "1280"
      ]
     },
     "execution_count": 30,
     "metadata": {},
     "output_type": "execute_result"
    }
   ],
   "source": [
    "len(des)"
   ]
  }
 ],
 "metadata": {
  "kernelspec": {
   "display_name": "oc-p8-deployer-modele-cloud",
   "language": "python",
   "name": "oc-p8-deployer-modele-cloud"
  },
  "language_info": {
   "codemirror_mode": {
    "name": "ipython",
    "version": 3
   },
   "file_extension": ".py",
   "mimetype": "text/x-python",
   "name": "python",
   "nbconvert_exporter": "python",
   "pygments_lexer": "ipython3",
   "version": "3.9.7"
  }
 },
 "nbformat": 4,
 "nbformat_minor": 5
}
