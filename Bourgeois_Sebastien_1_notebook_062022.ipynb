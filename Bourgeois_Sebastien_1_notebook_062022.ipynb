{
 "cells": [
  {
   "cell_type": "code",
   "execution_count": 40,
   "id": "320bf971",
   "metadata": {},
   "outputs": [],
   "source": [
    "def recuperer_valeurs_dataset():\n",
    "    valeurs = []\n",
    "    for nom_dossier_images_fruit in listdir(chemin_echantillon_dataset):\n",
    "        chemin_dossier_images_fruit = chemin_echantillon_dataset + nom_dossier_images_fruit + \"/\"\n",
    "        for nom_image_fruit in listdir(chemin_dossier_images_fruit):\n",
    "            chemin_image_fruit = chemin_dossier_images_fruit + nom_image_fruit\n",
    "            valeurs.append([chemin_image_fruit, nom_dossier_images_fruit])\n",
    "    return valeurs\n",
    "\n",
    "def creer_dataset_initial():\n",
    "    colonnes = [\"chemin_image\", \"label\"]\n",
    "    valeurs = recuperer_valeurs_dataset()\n",
    "    return spark.createDataFrame(valeurs, colonnes)"
   ]
  },
  {
   "cell_type": "code",
   "execution_count": 41,
   "id": "e27df887",
   "metadata": {},
   "outputs": [
    {
     "name": "stdout",
     "output_type": "stream",
     "text": [
      "+--------------------+------------------+\n",
      "|        chemin_image|             label|\n",
      "+--------------------+------------------+\n",
      "|data/echantillon_...|apple_granny_smith|\n",
      "|data/echantillon_...|apple_granny_smith|\n",
      "|data/echantillon_...|           avocado|\n",
      "|data/echantillon_...|           avocado|\n",
      "|data/echantillon_...|            banana|\n",
      "|data/echantillon_...|            banana|\n",
      "+--------------------+------------------+\n",
      "\n"
     ]
    }
   ],
   "source": [
    "from pyspark import SparkContext, SparkConf\n",
    "from pyspark.sql import SparkSession, Row\n",
    "from pyspark.sql.types import StructType\n",
    "from os import listdir\n",
    "\n",
    "# Initialisation du programme\n",
    "#appName = \"[OC/P8] - Déployer un modèle sur le cloud\"\n",
    "#master = \"local\"\n",
    "#conf = SparkConf().setAppName(appName).setMaster(master)\n",
    "#sc = SparkContext(conf=conf).getOrCreate()\n",
    "sc = SparkContext.getOrCreate()\n",
    "spark = SparkSession.builder.getOrCreate()\n",
    "\n",
    "df_chemins_images_label = creer_dataset_initial()\n",
    "df_chemins_images_label.show()"
   ]
  },
  {
   "cell_type": "code",
   "execution_count": 1,
   "id": "c094d38e",
   "metadata": {},
   "outputs": [
    {
     "name": "stdout",
     "output_type": "stream",
     "text": [
      "+--------------------+-----+------+---------+----+--------------------+\n",
      "|              origin|width|height|nChannels|mode|                data|\n",
      "+--------------------+-----+------+---------+----+--------------------+\n",
      "|file:///C:/Users/...|  100|   100|        3|  16|[FF FF FF FF FF F...|\n",
      "+--------------------+-----+------+---------+----+--------------------+\n",
      "\n"
     ]
    }
   ],
   "source": [
    "from pyspark import SparkContext, SparkConf\n",
    "from pyspark.sql import SparkSession\n",
    "\n",
    "# Initialisation du programme\n",
    "#appName = \"[OC/P8] - Déployer un modèle sur le cloud\"\n",
    "#master = \"local\"\n",
    "#conf = SparkConf().setAppName(appName).setMaster(master)\n",
    "#sc = SparkContext(conf=conf).getOrCreate()\n",
    "sc = SparkContext.getOrCreate()\n",
    "spark = SparkSession.builder.getOrCreate()\n",
    "\n",
    "# Lecture des images\n",
    "df = spark.read.format(\"image\").load(\"data/echantillon_dataset/apple_granny_smith/0_100.jpg\")\n",
    "df.select(\"image.origin\", \"image.width\", \"image.height\", \"image.nChannels\", \"image.mode\", \"image.data\").show(truncate=True)"
   ]
  }
 ],
 "metadata": {
  "kernelspec": {
   "display_name": "oc-p8-deployer-modele-cloud",
   "language": "python",
   "name": "oc-p8-deployer-modele-cloud"
  },
  "language_info": {
   "codemirror_mode": {
    "name": "ipython",
    "version": 3
   },
   "file_extension": ".py",
   "mimetype": "text/x-python",
   "name": "python",
   "nbconvert_exporter": "python",
   "pygments_lexer": "ipython3",
   "version": "3.9.7"
  }
 },
 "nbformat": 4,
 "nbformat_minor": 5
}
